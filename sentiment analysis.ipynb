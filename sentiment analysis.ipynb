{
 "cells": [
  {
   "cell_type": "code",
   "execution_count": 1,
   "id": "4faae937",
   "metadata": {},
   "outputs": [],
   "source": [
    "#%%% relevent packages & modules\n",
    "import pandas as pd\n",
    "import os\n",
    "import numpy as np\n",
    "import matplotlib.pyplot as plt\n",
    "\n",
    "from sklearn                         import linear_model\n",
    "from sklearn.feature_extraction.text import CountVectorizer\n",
    "from sklearn.linear_model            import LogisticRegression\n",
    "from sklearn.neighbors               import KNeighborsClassifier\n",
    "from sklearn.metrics                 import confusion_matrix\n",
    "from sklearn.metrics                 import accuracy_score\n",
    "from sklearn.metrics                 import classification_report\n",
    "from sklearn.metrics                 import plot_confusion_matrix"
   ]
  },
  {
   "cell_type": "code",
   "execution_count": 2,
   "id": "1edfac2e",
   "metadata": {},
   "outputs": [
    {
     "name": "stdout",
     "output_type": "stream",
     "text": [
      "      index          scrapping_date  \\\n",
      "0         0 2021-11-13 09:26:56.988   \n",
      "1         1 2021-11-13 09:26:57.021   \n",
      "2         2 2021-11-13 09:26:57.077   \n",
      "3         3 2021-11-13 09:26:57.108   \n",
      "4         4 2021-11-13 09:26:57.133   \n",
      "...     ...                     ...   \n",
      "5049   5049 2021-11-13 10:11:32.348   \n",
      "5050   5050 2021-11-13 10:11:32.368   \n",
      "5051   5051 2021-11-13 10:11:32.388   \n",
      "5052   5052 2021-11-13 10:11:32.408   \n",
      "5053   5053 2021-11-13 10:11:32.428   \n",
      "\n",
      "                                        one_review_text  \\\n",
      "0     WOW!!!  My wife and I are 60, haven't had this...   \n",
      "1     Let me start with this. If you want to get an ...   \n",
      "2     I've been exploring worlds and experiencing th...   \n",
      "3     VR and the Quest 2 is absolutely incredible. I...   \n",
      "4     I have every oculus headset sold and this one ...   \n",
      "...                                                 ...   \n",
      "5049  The Oculus Quest 2 brings affordable quality V...   \n",
      "5050  Fun but battery sucks. To me forever to downlo...   \n",
      "5051  My issue! Is not with the product (oculus) is ...   \n",
      "5052  Gave Me & My Son Bad Headache And Strong Motio...   \n",
      "5053  Malfunctioned in a short span of time, for the...   \n",
      "\n",
      "                review_date        one_review_stars  Rating  \n",
      "0      Posted 6 months ago.  Rated 5 out of 5 stars       5  \n",
      "1        Posted 1 year ago.  Rated 4 out of 5 stars       4  \n",
      "2     Posted 11 months ago.  Rated 5 out of 5 stars       5  \n",
      "3     Posted 11 months ago.  Rated 5 out of 5 stars       5  \n",
      "4        Posted 1 year ago.  Rated 4 out of 5 stars       4  \n",
      "...                     ...                     ...     ...  \n",
      "5049  Posted 11 months ago.  Rated 2 out of 5 stars       2  \n",
      "5050  Posted 11 months ago.  Rated 2 out of 5 stars       2  \n",
      "5051   Posted 9 months ago.  Rated 1 out of 5 stars       1  \n",
      "5052   Posted 6 months ago.  Rated 1 out of 5 stars       1  \n",
      "5053  Posted 10 months ago.  Rated 1 out of 5 stars       1  \n",
      "\n",
      "[5054 rows x 6 columns]\n"
     ]
    }
   ],
   "source": [
    "#%%% data preparetion\n",
    "dta = pd.read_excel('/Users/jialinshang/Desktop/marketing/final project/Oculus_reviews.xlsx').reset_index()\n",
    "\n",
    "#filter out noise information\n",
    "dta1 = dta[['index','scrapping_date','one_review_text','review_date','one_review_stars','Rating']].copy()\n",
    "print(dta1)\n",
    "\n",
    "#Cleaning the review_text\n",
    "dta1['one_review_text'] = dta1['one_review_text'].str.replace(\"n't\",\" not\")\n",
    "dta1['one_review_text'] = dta1['one_review_text'].str.replace(\"I'm\",\"I am\")\n",
    "dta1['one_review_text'] = dta1['one_review_text'].str.replace(\"'ll\",\" will\")\n",
    "\n",
    "dta1['one_review_text'] = dta1['one_review_text'].str.replace(\"It's\",\"It is\")\n",
    "dta1['one_review_text'] = dta1['one_review_text'].str.replace(\"it's\",\"It is\")\n",
    "dta1['one_review_text'] = dta1['one_review_text'].str.replace(\"that's\",\"that is\")"
   ]
  },
  {
   "cell_type": "code",
   "execution_count": 3,
   "id": "e27e46a6",
   "metadata": {},
   "outputs": [],
   "source": [
    "#%%% data splitting\n",
    "np.random.seed(1)\n",
    "dta1['ML_group']   = np.random.randint(100, size = dta1.shape[0])\n",
    "\n",
    "#80% for trainning; 10% for validating; 10% for testing\n",
    "inx_train          = dta1.ML_group  <  80                                \n",
    "inx_valid          = (dta1.ML_group >= 80) & (dta1.ML_group<90)          \n",
    "inx_test           = (dta1.ML_group >= 90)"
   ]
  },
  {
   "cell_type": "code",
   "execution_count": 4,
   "id": "29320472",
   "metadata": {},
   "outputs": [
    {
     "name": "stdout",
     "output_type": "stream",
     "text": [
      "['10', '100', '256gb', 'able', 'about', 'absolutely', 'account', 'actually', 'after', 'again', 'ages', 'all', 'almost', 'alone', 'already', 'also', 'always', 'am', 'amazing', 'an', 'and', 'another', 'any', 'anyone', 'anything', 'app', 'apps', 'are', 'around', 'as', 'at', 'available', 'away', 'awesome', 'back', 'bad', 'battery', 'be', 'beat', 'because', 'been', 'before', 'being', 'best', 'better', 'big', 'birthday', 'bit', 'blast', 'both', 'bought', 'box', 'but', 'buy', 'buying', 'by', 'ca', 'cable', 'came', 'can', 'charge', 'christmas', 'clear', 'come', 'comes', 'comfortable', 'computer', 'connect', 'console', 'content', 'controllers', 'cool', 'cost', 'could', 'couple', 'daughter', 'day', 'definitely', 'desktop', 'device', 'did', 'different', 'do', 'does', 'don', 'down', 'download', 'easily', 'easy', 'elite', 'enjoy', 'enjoyed', 'enjoying', 'enjoys', 'enough', 'entertainment', 'entire', 'especially', 'even', 'ever', 'every', 'everyone', 'everything', 'excellent', 'exercise', 'expected', 'expensive', 'experience', 'experiences', 'extra', 'face', 'facebook', 'fact', 'family', 'fantastic', 'far', 'fast', 'feel', 'feels', 'few', 'find', 'first', 'fit', 'for', 'found', 'free', 'friends', 'from', 'fun', 'future', 'game', 'gamer', 'games', 'gaming', 'get', 'gets', 'getting', 'gift', 'give', 'glad', 'glasses', 'go', 'going', 'good', 'got', 'grandson', 'graphics', 'great', 'had', 'hand', 'hands', 'happy', 'hard', 'has', 'have', 'having', 'he', 'head', 'headset', 'headsets', 'heavy', 'her', 'high', 'highly', 'him', 'his', 'home', 'hours', 'house', 'how', 'however', 'huge', 'husband', 'if', 'immersive', 'in', 'incredible', 'into', 'is', 'issue', 'issues', 'it', 'item', 'its', 'just', 'keep', 'kids', 'know', 'last', 'let', 'level', 'life', 'light', 'like', 'link', 'little', 'long', 'longer', 'look', 'looking', 'lot', 'lots', 'love', 'loved', 'loves', 'made', 'make', 'makes', 'many', 'may', 'me', 'mind', 'minutes', 'money', 'more', 'most', 'motion', 'movies', 'much', 'must', 'my', 'myself', 'need', 'needed', 'needs', 'never', 'new', 'next', 'nice', 'no', 'not', 'now', 'oculus', 'of', 'off', 'old', 'on', 'once', 'one', 'online', 'only', 'option', 'options', 'or', 'order', 'original', 'other', 'others', 'our', 'out', 'over', 'overall', 'own', 'pc', 'people', 'perfect', 'phone', 'play', 'played', 'playing', 'plays', 'present', 'pretty', 'price', 'problem', 'product', 'purchase', 'purchased', 'put', 'quality', 'quest', 're', 'read', 'real', 'realistic', 'reality', 'really', 'recommend', 'recommended', 'required', 'resolution', 'rift', 'right', 'room', 'saber', 'said', 'same', 'say', 'screen', 'second', 'see', 'seems', 'service', 'set', 'setup', 'she', 'should', 'sickness', 'side', 'since', 'so', 'some', 'something', 'son', 'sound', 'space', 'stand', 'standalone', 'star', 'stars', 'start', 'steam', 'still', 'storage', 'store', 'strap', 'such', 'super', 'support', 'sure', 'system', 'take', 'takes', 'tech', 'technology', 'than', 'that', 'the', 'their', 'them', 'then', 'there', 'these', 'they', 'thing', 'things', 'think', 'this', 'those', 'though', 'thought', 'through', 'time', 'times', 'to', 'too', 'took', 'totally', 'tracking', 'tried', 'truly', 'try', 'trying', 'tv', 'two', 'unit', 'up', 'upgrade', 'us', 'use', 'used', 'user', 'using', 'value', 've', 'version', 'very', 'video', 'videos', 'virtual', 'vr', 'wait', 'want', 'wanted', 'was', 'watch', 'watching', 'way', 'we', 'wear', 'well', 'went', 'were', 'what', 'when', 'where', 'which', 'while', 'who', 'whole', 'wife', 'will', 'wireless', 'wires', 'wish', 'with', 'without', 'work', 'workout', 'works', 'world', 'worth', 'would', 'wow', 'year', 'years', 'yet', 'you', 'your']\n"
     ]
    },
    {
     "data": {
      "text/plain": [
       "array([[0, 1, 0, ..., 0, 1, 0],\n",
       "       [0, 0, 1, ..., 0, 1, 1],\n",
       "       [0, 0, 0, ..., 0, 1, 0],\n",
       "       ...,\n",
       "       [0, 0, 0, ..., 0, 0, 0],\n",
       "       [0, 0, 0, ..., 0, 0, 0],\n",
       "       [0, 0, 0, ..., 0, 1, 0]])"
      ]
     },
     "execution_count": 4,
     "metadata": {},
     "output_type": "execute_result"
    }
   ],
   "source": [
    "#%%% text vectorization\n",
    "corpus      = dta1.one_review_text.to_list()\n",
    "vectorizer  = CountVectorizer(lowercase   = True,\n",
    "                              ngram_range = (1,1),\n",
    "                              max_df      = 0.85,\n",
    "                              min_df      = 0.01);\n",
    "X           = vectorizer.fit_transform(corpus)\n",
    "print(vectorizer.get_feature_names())\n",
    "vc_mtx=vectorizer.transform(corpus)\n",
    "\n",
    "vc_mtx.toarray()"
   ]
  },
  {
   "cell_type": "code",
   "execution_count": 5,
   "id": "4e0b328d",
   "metadata": {},
   "outputs": [
    {
     "data": {
      "text/plain": [
       "True"
      ]
     },
     "execution_count": 5,
     "metadata": {},
     "output_type": "execute_result"
    }
   ],
   "source": [
    "#%%% TVT Split\n",
    "y_train   = dta1.Rating[inx_train].to_numpy()\n",
    "y_valid   = dta1.Rating[inx_valid].to_numpy()\n",
    "y_test    = dta1.Rating[inx_test ].to_numpy()\n",
    "\n",
    "X_train   = X[np.where(inx_train)[0],:]\n",
    "X_valid   = X[np.where(inx_valid)[0],:]\n",
    "X_test    = X[np.where(inx_test) [0],:]\n",
    "\n",
    "# check wheher all reviews are assigned to groups\n",
    "X_train.shape[0]+X_valid.shape[0]+X_test.shape[0] == 5054"
   ]
  },
  {
   "cell_type": "code",
   "execution_count": 11,
   "id": "598d29ec",
   "metadata": {},
   "outputs": [
    {
     "data": {
      "text/plain": [
       "Text(0.5, 0, 'K neighbors')"
      ]
     },
     "execution_count": 11,
     "metadata": {},
     "output_type": "execute_result"
    },
    {
     "data": {
      "image/png": "[encoded data removed]",
      "text/plain": [
       "<Figure size 432x288 with 1 Axes>"
      ]
     },
     "metadata": {
      "needs_background": "light"
     },
     "output_type": "display_data"
    }
   ],
   "source": [
    "#%%% KNN classification\n",
    "test_error_rates = []\n",
    "k_max            = 20\n",
    "for k in range(1,k_max+1):\n",
    "    knn_model   = KNeighborsClassifier(n_neighbors=k)\n",
    "    knn_model.fit(X_train,y_train)\n",
    "    y_hat_valid = knn_model.predict(X_valid)\n",
    "    test_error  = 1-accuracy_score(y_valid, y_hat_valid)\n",
    "    test_error_rates.append(test_error)\n",
    "\n",
    "# minimum the test error\n",
    "k =np.argmin(test_error_rates)\n",
    "min(test_error_rates)\n",
    "best_k=test_error_rates.index(min(test_error_rates))+1\n",
    "\n",
    "plt.plot(range(1,k_max+1),test_error_rates)\n",
    "plt.ylabel('Error Rates')\n",
    "plt.xlabel('K neighbors')"
   ]
  },
  {
   "cell_type": "code",
   "execution_count": 12,
   "id": "9ee9ae42",
   "metadata": {},
   "outputs": [
    {
     "name": "stdout",
     "output_type": "stream",
     "text": [
      "      index          scrapping_date  \\\n",
      "0         0 2021-11-13 09:26:56.988   \n",
      "1         1 2021-11-13 09:26:57.021   \n",
      "2         2 2021-11-13 09:26:57.077   \n",
      "3         3 2021-11-13 09:26:57.108   \n",
      "4         4 2021-11-13 09:26:57.133   \n",
      "...     ...                     ...   \n",
      "5049   5049 2021-11-13 10:11:32.348   \n",
      "5050   5050 2021-11-13 10:11:32.368   \n",
      "5051   5051 2021-11-13 10:11:32.388   \n",
      "5052   5052 2021-11-13 10:11:32.408   \n",
      "5053   5053 2021-11-13 10:11:32.428   \n",
      "\n",
      "                                        one_review_text  \\\n",
      "0     WOW!!!  My wife and I are 60, have not had thi...   \n",
      "1     Let me start with this. If you want to get an ...   \n",
      "2     I've been exploring worlds and experiencing th...   \n",
      "3     VR and the Quest 2 is absolutely incredible. I...   \n",
      "4     I have every oculus headset sold and this one ...   \n",
      "...                                                 ...   \n",
      "5049  The Oculus Quest 2 brings affordable quality V...   \n",
      "5050  Fun but battery sucks. To me forever to downlo...   \n",
      "5051  My issue! Is not with the product (oculus) is ...   \n",
      "5052  Gave Me & My Son Bad Headache And Strong Motio...   \n",
      "5053  Malfunctioned in a short span of time, for the...   \n",
      "\n",
      "                review_date        one_review_stars  Rating  ML_group  \\\n",
      "0      Posted 6 months ago.  Rated 5 out of 5 stars       5        37   \n",
      "1        Posted 1 year ago.  Rated 4 out of 5 stars       4        12   \n",
      "2     Posted 11 months ago.  Rated 5 out of 5 stars       5        72   \n",
      "3     Posted 11 months ago.  Rated 5 out of 5 stars       5         9   \n",
      "4        Posted 1 year ago.  Rated 4 out of 5 stars       4        75   \n",
      "...                     ...                     ...     ...       ...   \n",
      "5049  Posted 11 months ago.  Rated 2 out of 5 stars       2         5   \n",
      "5050  Posted 11 months ago.  Rated 2 out of 5 stars       2        81   \n",
      "5051   Posted 9 months ago.  Rated 1 out of 5 stars       1        90   \n",
      "5052   Posted 6 months ago.  Rated 1 out of 5 stars       1        39   \n",
      "5053  Posted 10 months ago.  Rated 1 out of 5 stars       1        98   \n",
      "\n",
      "      Predicted_star  \n",
      "0                  5  \n",
      "1                  5  \n",
      "2                  5  \n",
      "3                  5  \n",
      "4                  5  \n",
      "...              ...  \n",
      "5049               5  \n",
      "5050               5  \n",
      "5051               5  \n",
      "5052               5  \n",
      "5053               5  \n",
      "\n",
      "[5054 rows x 8 columns]\n",
      "              precision    recall  f1-score   support\n",
      "\n",
      "           1       0.00      0.00      0.00        13\n",
      "           2       0.00      0.00      0.00         7\n",
      "           3       0.00      0.00      0.00        17\n",
      "           4       0.75      0.04      0.07        85\n",
      "           5       0.78      1.00      0.88       415\n",
      "\n",
      "    accuracy                           0.78       537\n",
      "   macro avg       0.31      0.21      0.19       537\n",
      "weighted avg       0.72      0.78      0.69       537\n",
      "\n"
     ]
    },
    {
     "name": "stderr",
     "output_type": "stream",
     "text": [
      "/Users/jialinshang/opt/anaconda3/lib/python3.8/site-packages/sklearn/metrics/_classification.py:1245: UndefinedMetricWarning: Precision and F-score are ill-defined and being set to 0.0 in labels with no predicted samples. Use `zero_division` parameter to control this behavior.\n",
      "  _warn_prf(average, modifier, msg_start, len(result))\n",
      "/Users/jialinshang/opt/anaconda3/lib/python3.8/site-packages/sklearn/metrics/_classification.py:1245: UndefinedMetricWarning: Precision and F-score are ill-defined and being set to 0.0 in labels with no predicted samples. Use `zero_division` parameter to control this behavior.\n",
      "  _warn_prf(average, modifier, msg_start, len(result))\n",
      "/Users/jialinshang/opt/anaconda3/lib/python3.8/site-packages/sklearn/metrics/_classification.py:1245: UndefinedMetricWarning: Precision and F-score are ill-defined and being set to 0.0 in labels with no predicted samples. Use `zero_division` parameter to control this behavior.\n",
      "  _warn_prf(average, modifier, msg_start, len(result))\n"
     ]
    },
    {
     "data": {
      "image/png": "[encoded data removed]",
      "text/plain": [
       "<Figure size 432x288 with 2 Axes>"
      ]
     },
     "metadata": {
      "needs_background": "light"
     },
     "output_type": "display_data"
    }
   ],
   "source": [
    "#predict results\n",
    "results_list_knn_actual = []\n",
    "knn                     = KNeighborsClassifier(n_neighbors=k).fit(X_train, y_train)\n",
    "\n",
    "results_list_knn_actual.append(\n",
    "        np.concatenate([knn.predict(X_train),\n",
    "                 knn.predict(X_valid),\n",
    "                 knn.predict(X_test )]))\n",
    "\n",
    "results_list_knn_actual = pd.DataFrame(results_list_knn_actual).transpose()\n",
    "dta2=dta1\n",
    "dta2['Predicted_star']  = results_list_knn_actual[0]\n",
    "print(dta2)\n",
    "\n",
    "#confusion matrix and accuracy report\n",
    "confusion_matrix(y_valid, y_hat_valid)\n",
    "plot_confusion_matrix(knn_model, X_valid, y_valid)\n",
    "print(classification_report(y_valid, y_hat_valid))"
   ]
  },
  {
   "cell_type": "code",
   "execution_count": 13,
   "id": "d080f14a",
   "metadata": {},
   "outputs": [
    {
     "name": "stdout",
     "output_type": "stream",
     "text": [
      "{'ccp_train':                  0         1         2             3         4  label_hat  \\\n",
      "0     2.798561e-05  0.000017  0.000417  1.549237e-04  0.999939          5   \n",
      "1     6.198270e-05  0.000005  0.000358  5.297834e-01  0.571390          5   \n",
      "2     1.968480e-02  0.000169  0.034365  2.631225e-08  0.999232          5   \n",
      "3     2.291068e-07  0.000131  0.006631  4.426758e-02  0.988384          5   \n",
      "4     1.844663e-03  0.003392  0.009844  5.466301e-01  0.342855          4   \n",
      "...            ...       ...       ...           ...       ...        ...   \n",
      "4035  8.810842e-01  0.002969  0.026884  8.237162e-03  0.271882          1   \n",
      "4036  7.525876e-01  0.000035  0.006099  4.469428e-02  0.479055          1   \n",
      "4037  9.861486e-01  0.004576  0.007532  9.528380e-04  0.414793          1   \n",
      "4038  1.106903e-02  0.883101  0.051605  7.327473e-03  0.205108          2   \n",
      "4039  3.270665e-01  0.005561  0.083742  3.843218e-01  0.221014          4   \n",
      "\n",
      "      y_train  \n",
      "0           5  \n",
      "1           4  \n",
      "2           5  \n",
      "3           5  \n",
      "4           4  \n",
      "...       ...  \n",
      "4035        1  \n",
      "4036        1  \n",
      "4037        1  \n",
      "4038        2  \n",
      "4039        1  \n",
      "\n",
      "[4040 rows x 7 columns], 'ccp_valid':                 0             1         2         3         4  label_hat  \\\n",
      "0    5.315889e-03  1.201190e-02  0.021841  0.185860  0.471314          5   \n",
      "1    4.767723e-01  1.103528e-03  0.000355  0.010607  0.922381          5   \n",
      "2    9.438942e-04  7.684561e-04  0.004267  0.024156  0.957511          5   \n",
      "3    8.023750e-03  3.389304e-03  0.000923  0.405759  0.637284          5   \n",
      "4    6.456495e-03  2.456527e-04  0.007220  0.077750  0.907263          5   \n",
      "..            ...           ...       ...       ...       ...        ...   \n",
      "532  4.231236e-07  2.844902e-07  0.000721  0.039242  0.974406          5   \n",
      "533  1.972398e-03  1.986963e-02  0.189898  0.345593  0.042781          4   \n",
      "534  5.545553e-03  2.272374e-03  0.049770  0.723773  0.186906          4   \n",
      "535  9.976766e-01  3.128473e-05  0.008629  0.005891  0.090599          1   \n",
      "536  9.970669e-03  7.368314e-02  0.040525  0.288384  0.421402          5   \n",
      "\n",
      "     y_valid  \n",
      "0          5  \n",
      "1          5  \n",
      "2          5  \n",
      "3          4  \n",
      "4          5  \n",
      "..       ...  \n",
      "532        5  \n",
      "533        3  \n",
      "534        2  \n",
      "535        1  \n",
      "536        2  \n",
      "\n",
      "[537 rows x 7 columns], 'ccp_test':             0         1         2         3         4  label_hat  y_test\n",
      "0    0.017294  0.001080  0.008346  0.071341  0.887806          5       5\n",
      "1    0.000360  0.000311  0.000465  0.036958  0.960699          5       5\n",
      "2    0.001418  0.000064  0.005020  0.002055  0.966222          5       5\n",
      "3    0.000562  0.000056  0.006828  0.270556  0.321268          5       5\n",
      "4    0.000424  0.281582  0.025814  0.272373  0.763690          5       4\n",
      "..        ...       ...       ...       ...       ...        ...     ...\n",
      "472  0.871682  0.002124  0.018122  0.100403  0.085611          1       1\n",
      "473  0.327067  0.005561  0.083742  0.384322  0.221014          4       1\n",
      "474  0.602005  0.000650  0.018485  0.099786  0.335123          1       1\n",
      "475  0.404517  0.001059  0.017653  0.010309  0.733681          5       1\n",
      "476  0.070322  0.004432  0.118511  0.129183  0.719808          5       1\n",
      "\n",
      "[477 rows x 7 columns]}\n"
     ]
    }
   ],
   "source": [
    "#%%% logistic regression\n",
    "categories         = pd.DataFrame(np.sort(np.unique(y_train))).reset_index()\n",
    "categories.columns = ['index','label']   \n",
    "\n",
    "ccp_train_list = []\n",
    "ccp_valid_list = []\n",
    "ccp_test_list  = []\n",
    "\n",
    "for cat in categories['label'].to_list(): #the conditional probability for each x\n",
    "    y_train_c = 1*(y_train==cat) #dummy variable\n",
    "    clf       = linear_model.LogisticRegression(tol          = 0.0001,\n",
    "                                                max_iter     = 10000,\n",
    "                                                random_state = None).fit(X_train, y_train_c)\n",
    "    ccp_train_list.append(  clf.predict_proba(X_train)[:,1]) # predict the probabilities\n",
    "    ccp_valid_list.append(  clf.predict_proba(X_valid)[:,1])\n",
    "    ccp_test_list.append (  clf.predict_proba(X_test) [:,1])\n",
    "\n",
    "' . Topic probability matrix'\n",
    "ccp_train = pd.DataFrame(ccp_train_list).transpose()\n",
    "ccp_valid = pd.DataFrame(ccp_valid_list).transpose()\n",
    "ccp_test  = pd.DataFrame(ccp_test_list).transpose()\n",
    "#bias estimated: the sum is not equal to one \n",
    "' . Choosing your predictive category for the y'\n",
    "ccp_train['index_hat'] =  ccp_train.idxmax(axis=1) #\n",
    "ccp_valid['index_hat'] =  ccp_valid.idxmax(axis=1)\n",
    "ccp_test ['index_hat'] =  ccp_test.idxmax(axis=1)\n",
    "ccp_train              =  ccp_train.merge(categories, \n",
    "                          left_on  = 'index_hat' ,\n",
    "                          right_on = 'index'     , \n",
    "                          how      = 'left').rename(columns={'label':'label_hat'}).drop(['index','index_hat'],axis=1)\n",
    "ccp_valid              =  ccp_valid.merge(categories,\n",
    "                          left_on  = 'index_hat',\n",
    "                          right_on = 'index', \n",
    "                          how      = 'left').rename(columns={'label':'label_hat'}).drop(['index','index_hat'],axis=1)\n",
    "ccp_test               =  ccp_test.merge(categories,\n",
    "                          left_on  = 'index_hat' ,\n",
    "                          right_on = 'index' ,\n",
    "                          how      = 'left').rename(columns={'label':'label_hat'}).drop(['index','index_hat'],axis=1)\n",
    "\n",
    "ccp_train['y_train']   = y_train\n",
    "ccp_valid['y_valid']   = y_valid\n",
    "ccp_test ['y_test']    = y_test\n",
    "\n",
    "print({'ccp_train'  : ccp_train,'ccp_valid'  : ccp_valid,'ccp_test'   : ccp_test})"
   ]
  },
  {
   "cell_type": "code",
   "execution_count": 14,
   "id": "253d8afe",
   "metadata": {},
   "outputs": [
    {
     "name": "stdout",
     "output_type": "stream",
     "text": [
      "[[  9   0   1   3   5]\n",
      " [  0   1   0   0   1]\n",
      " [  1   0   1   3   6]\n",
      " [  0   0   0  21  34]\n",
      " [  0   1   1  13 376]]\n",
      "              precision    recall  f1-score   support\n",
      "\n",
      "           1       0.90      0.50      0.64        18\n",
      "           2       0.50      0.50      0.50         2\n",
      "           3       0.33      0.09      0.14        11\n",
      "           4       0.53      0.38      0.44        55\n",
      "           5       0.89      0.96      0.92       391\n",
      "\n",
      "    accuracy                           0.86       477\n",
      "   macro avg       0.63      0.49      0.53       477\n",
      "weighted avg       0.83      0.86      0.84       477\n",
      "\n"
     ]
    }
   ],
   "source": [
    "print(confusion_matrix(y_test, ccp_test['label_hat']))\n",
    "print(classification_report(y_test, ccp_test['label_hat']))"
   ]
  },
  {
   "cell_type": "code",
   "execution_count": null,
   "id": "57a5a095",
   "metadata": {},
   "outputs": [],
   "source": []
  }
 ],
 "metadata": {
  "kernelspec": {
   "display_name": "Python 3",
   "language": "python",
   "name": "python3"
  },
  "language_info": {
   "codemirror_mode": {
    "name": "ipython",
    "version": 3
   },
   "file_extension": ".py",
   "mimetype": "text/x-python",
   "name": "python",
   "nbconvert_exporter": "python",
   "pygments_lexer": "ipython3",
   "version": "3.8.8"
  }
 },
 "nbformat": 4,
 "nbformat_minor": 5
}
