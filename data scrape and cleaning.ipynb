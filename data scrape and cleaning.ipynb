{
 "cells": [
  {
   "cell_type": "code",
   "execution_count": 1,
   "id": "a3c3f2b0",
   "metadata": {},
   "outputs": [],
   "source": [
    "#%%% relevent packages & modules\n",
    "import gc\n",
    "import os\n",
    "import pandas as pd\n",
    "import numpy as np\n",
    "import re\n",
    "import shelve\n",
    "import time\n",
    "import datetime\n",
    "\n",
    "from selenium                      import webdriver\n",
    "from selenium.webdriver.common.by  import By\n",
    "from selenium.webdriver.support.ui import WebDriverWait\n",
    "from selenium.webdriver.support    import expected_conditions as EC\n",
    "from bs4                           import BeautifulSoup"
   ]
  },
  {
   "cell_type": "code",
   "execution_count": 2,
   "id": "d9737312",
   "metadata": {},
   "outputs": [],
   "source": [
    "#%%% relevent website\n",
    "website='https://www.bestbuy.com/site/reviews/oculus-quest-2-advanced-all-in-one-virtual-reality-headset-256gb/6473857?variant=A'\n"
   ]
  },
  {
   "cell_type": "code",
   "execution_count": null,
   "id": "c7662b71",
   "metadata": {},
   "outputs": [],
   "source": [
    "#%%% initialize chrome\n",
    "path = '/Users/jialinshang/Desktop/marketing/chromedriver'\n",
    "\n",
    "#open website\n",
    "driver    = webdriver.Chrome(path)\n",
    "driver.get(website)\n",
    "driver.maximize_window()"
   ]
  },
  {
   "cell_type": "code",
   "execution_count": null,
   "id": "14884f5a",
   "metadata": {},
   "outputs": [],
   "source": [
    "#%%% collect all reviews\n",
    "reviews_one_store     = []\n",
    "condition_to_continue = True\n",
    "while(condition_to_continue):\n",
    "    WebDriverWait(driver, 10).until(\n",
    "        EC.visibility_of_element_located((By.XPATH, \"//li[@class='review-item']\")))\n",
    "        \n",
    "    reviews = driver.find_elements_by_xpath(\"//li[@class='review-item']\") \n",
    "    \n",
    "    r = 0\n",
    "\n",
    "    # Finding all the reviews in the website and bringing them to python\n",
    "    for r in range(len(reviews)):\n",
    "        one_review                    = {}\n",
    "        one_review['scrapping_date']  = datetime.datetime.now()\n",
    "        one_review['url']             = driver.current_url\n",
    "        try:                \n",
    "            soup                      = BeautifulSoup(reviews[r].get_attribute('innerHTML'))\n",
    "        except:\n",
    "            # I got an errorr saying that element is not attached to the page document\n",
    "            #To solve this I put an explicit wait condition that tells Selenium to wait until the element \n",
    "            #is available to be clicked on\n",
    "            WebDriverWait(driver, 10).until(\n",
    "                EC.visibility_of_element_located((By.XPATH, \"//li[@class='review-item']']\")))\n",
    "            reviews = driver.find_elements_by_xpath(\"//li[@class='review-item']\")\n",
    "            soup                       = BeautifulSoup(reviews[r].get_attribute('innerHTML'))\n",
    "            \n",
    "        # scrape raw html\n",
    "        try:\n",
    "            one_review_raw = reviews[r].get_attribute('innerHTML')\n",
    "        except:\n",
    "            one_review_raw = \"\"\n",
    "        one_review['review_raw'] = one_review_raw\n",
    "        \n",
    "        # scrape review text\n",
    "        try:\n",
    "            one_review_text = soup.find('div', attrs={'class':'ugc-review-body body-copy-lg'}).text\n",
    "\n",
    "        except:\n",
    "            one_review_text = \"\"\n",
    "        one_review['one_review_text'] = one_review_text\n",
    "        \n",
    "        # scrape review date\n",
    "        try:\n",
    "            one_review_date            = soup.find('div', attrs={'class':'disclaimer v-m-right-xxs'}).text\n",
    "        except:\n",
    "            one_review_date            = \"\"\n",
    "        one_review['review_date']      = one_review_date\n",
    "        \n",
    "        # scrape review stars\n",
    "        try:\n",
    "            one_review_stars=soup.find('div', attrs={'class':'review-rating'}).text\n",
    "        except:\n",
    "            one_review_stars = \"\"\n",
    "        one_review['one_review_stars'] = one_review_stars\n",
    "        reviews_one_store.append(one_review)\n",
    "\n",
    "    before=driver.page_source()\n",
    "    driver.find_element_by_xpath(\"//a[@data-track='Page next']\").click()\n",
    "    after=driver.page_source()\n",
    "    if before==after:\n",
    "        break\n",
    "    else: \n",
    "        time.sleep(10)\n",
    "\n",
    "# check the total number of reviews       \n",
    "len(reviews_one_store)\n",
    "\n"
   ]
  },
  {
   "cell_type": "code",
   "execution_count": null,
   "id": "52403413",
   "metadata": {},
   "outputs": [],
   "source": [
    "#%%% data cleaning\n",
    "Oculus_reviews = pd.DataFrame.from_dict(reviews_one_store)\n",
    "Oculus_reviews_backup = pd.DataFrame.from_dict(reviews_one_store)\n",
    "Oculus_reviews['review_raw'].map(lambda Oculus_reviews: BeautifulSoup(Oculus_reviews).text)\n",
    "Oculus_reviews['Rating'] = Oculus_reviews.one_review_stars.str.extract(\"(\\d)\")[[0]]"
   ]
  },
  {
   "cell_type": "code",
   "execution_count": null,
   "id": "4fe77b5e",
   "metadata": {},
   "outputs": [],
   "source": [
    "#%%% export to excel\n",
    "file_name = 'Oculus_reviews.xlsx'\n",
    "Oculus_reviews.to_excel(file_name)"
   ]
  }
 ],
 "metadata": {
  "kernelspec": {
   "display_name": "Python 3",
   "language": "python",
   "name": "python3"
  },
  "language_info": {
   "codemirror_mode": {
    "name": "ipython",
    "version": 3
   },
   "file_extension": ".py",
   "mimetype": "text/x-python",
   "name": "python",
   "nbconvert_exporter": "python",
   "pygments_lexer": "ipython3",
   "version": "3.8.8"
  }
 },
 "nbformat": 4,
 "nbformat_minor": 5
}
